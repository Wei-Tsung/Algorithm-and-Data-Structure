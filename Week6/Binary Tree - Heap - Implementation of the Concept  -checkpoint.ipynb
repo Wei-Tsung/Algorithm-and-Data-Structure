{
 "cells": [
  {
   "cell_type": "code",
   "execution_count": 30,
   "metadata": {},
   "outputs": [],
   "source": [
    "def main(): # 主程式執行函數\n",
    "    \n",
    "        data = [0]    \n",
    "        data.extend([5,6,4,8,3,2,7,1,13,14,1,2,3,4,5])\n",
    "        size = len(data)\n",
    "        \n",
    "        #原始陣列格式化輸出\n",
    "        print('原始陣列數據 : ' , end = '')\n",
    "        \n",
    "        for i in range(1,size):\n",
    "            print(\"[%2d] \" % data[i] , end='')\n",
    "            \n",
    "        \n",
    "            \n",
    "        print('')\n",
    "        \n",
    "        heap(data,size)\n",
    "        \n",
    "        print('堆疊數據樹 : ' , end='')\n",
    "        \n",
    "        for i in range(1,size):\n",
    "            print('[%2d] ' % data[i] , end = '')\n",
    "\n",
    "            \n",
    "def heap(data , size) :\n",
    "    \n",
    "    for i in range(int(size/2) , 0  , -1):\n",
    "        add_heap(data,i,size-1)\n",
    "        \n",
    "        \n",
    "def add_heap(data , i , size) :\n",
    "    \n",
    "        j = i * 2\n",
    "        point = 0 \n",
    "        temp = data[i]\n",
    "        \n",
    "        while  j <= size and point == 0 :\n",
    "            if j < size and data[j] < data[j+1] :\n",
    "                j += 1\n",
    "                \n",
    "            if temp >= data[j] :\n",
    "                point = 1\n",
    "            else :\n",
    "                data[int(j/2)] = data[j]\n",
    "                data[j] = temp\n",
    "                temp = data[j]\n",
    "                j = j * 2\n",
    "                "
   ]
  },
  {
   "cell_type": "code",
   "execution_count": 29,
   "metadata": {},
   "outputs": [
    {
     "name": "stdout",
     "output_type": "stream",
     "text": [
      "原始陣列數據 : [ 5] [ 6] [ 4] [ 8] [ 3] [ 2] [ 7] [ 1] [13] [14] [ 1] [ 2] [ 3] [ 4] [ 5] \n",
      "堆疊數據樹 : [14] [13] [ 7] [ 8] [ 6] [ 3] [ 5] [ 1] [ 5] [ 3] [ 1] [ 2] [ 2] [ 4] [ 4] "
     ]
    }
   ],
   "source": [
    "main()"
   ]
  },
  {
   "cell_type": "code",
   "execution_count": null,
   "metadata": {},
   "outputs": [],
   "source": []
  }
 ],
 "metadata": {
  "kernelspec": {
   "display_name": "Python 3",
   "language": "python",
   "name": "python3"
  },
  "language_info": {
   "codemirror_mode": {
    "name": "ipython",
    "version": 3
   },
   "file_extension": ".py",
   "mimetype": "text/x-python",
   "name": "python",
   "nbconvert_exporter": "python",
   "pygments_lexer": "ipython3",
   "version": "3.6.5"
  }
 },
 "nbformat": 4,
 "nbformat_minor": 2
}
