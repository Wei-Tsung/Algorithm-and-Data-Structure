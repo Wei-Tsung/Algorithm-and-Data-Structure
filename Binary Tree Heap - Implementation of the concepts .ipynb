{
 "cells": [
  {
   "cell_type": "code",
   "execution_count": 3,
   "metadata": {},
   "outputs": [],
   "source": [
    "def heap(data,size):\n",
    "    \n",
    "\n",
    "    for i in range((size//2) , 0 , -1):\n",
    "        add_heap(data , i , size - 1)\n",
    "        \n",
    "        \n",
    "        \n",
    "        \n",
    "def add_heap(data , i , size):\n",
    "    \n",
    "    j = 2 * i\n",
    "    point = 0\n",
    "    \n",
    "    sub_root = data[i]\n",
    "    \n",
    "    while j <= size and point == 0  :\n",
    "        \n",
    "        if j < size and data[j] < data[j+1]:\n",
    "            j += 1\n",
    "            \n",
    "        if sub_root >= data[j] :\n",
    "            point = 1\n",
    "        else:\n",
    "            data[int(j/2)] = data[j]\n",
    "            data[j] = sub_root\n",
    "            j = j * 2\n",
    "            \n",
    "            \n",
    "                \n",
    "def main(): # 執行函數\n",
    "        \n",
    "                \n",
    "        data = [0,5,6,4,8,3,2,7,1]\n",
    "        size = len(data)\n",
    "        \n",
    "        print('原始陣列 : ' , end = '') \n",
    "        \n",
    "        for i in range(1,size):  #原始陣列格式化輸出\n",
    "            print('[%2d]' % data[i] , end = '')\n",
    "        \n",
    "        heap(data,size)\n",
    "        \n",
    "        print()\n",
    "        \n",
    "        print('排序結果 : ' , end='')\n",
    "        \n",
    "        for i in range(1,size):\n",
    "            print('[%2d]' % data[i] , end = '')\n",
    "                    \n",
    "        "
   ]
  },
  {
   "cell_type": "code",
   "execution_count": 4,
   "metadata": {},
   "outputs": [
    {
     "name": "stdout",
     "output_type": "stream",
     "text": [
      "原始陣列 : [ 5][ 6][ 4][ 8][ 3][ 2][ 7][ 1]\n",
      "排序結果 : [ 8][ 6][ 7][ 5][ 3][ 2][ 4][ 1]"
     ]
    }
   ],
   "source": [
    "main()"
   ]
  },
  {
   "cell_type": "code",
   "execution_count": null,
   "metadata": {},
   "outputs": [],
   "source": []
  }
 ],
 "metadata": {
  "kernelspec": {
   "display_name": "Python 3",
   "language": "python",
   "name": "python3"
  },
  "language_info": {
   "codemirror_mode": {
    "name": "ipython",
    "version": 3
   },
   "file_extension": ".py",
   "mimetype": "text/x-python",
   "name": "python",
   "nbconvert_exporter": "python",
   "pygments_lexer": "ipython3",
   "version": "3.6.5"
  }
 },
 "nbformat": 4,
 "nbformat_minor": 2
}
