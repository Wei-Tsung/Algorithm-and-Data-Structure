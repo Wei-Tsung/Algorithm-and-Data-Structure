{
 "cells": [
  {
   "cell_type": "code",
   "execution_count": null,
   "metadata": {},
   "outputs": [],
   "source": [
    "class Solution(object):\n",
    "    def insertionSortList(self, head):\n",
    "        \n",
    "        if (not head) or (not head.next):\n",
    "            return head\n",
    "        \n",
    "        root = ListNode(0)\n",
    "        root.next = head\n",
    "        \n",
    "        while head.next:\n",
    "            if head.val <= head.next.val :   #一定要是value才可以比較大小\n",
    "                head = head.next\n",
    "            \n",
    "            else :\n",
    "                temp = head.next\n",
    "                head.next = head.next.next\n",
    "               \n",
    "                q = root    \n",
    "                while q.next and q.next.val < temp.val :  #一定要是value才可以比較大小\n",
    "                    q = q.next\n",
    "                    \n",
    "                temp.next = q.next\n",
    "                q.next = temp\n",
    "                 \n",
    "                    \n",
    "                    \n",
    "                    \n",
    "                    \n",
    "        return root.next "
   ]
  }
 ],
 "metadata": {
  "kernelspec": {
   "display_name": "Python 3",
   "language": "python",
   "name": "python3"
  },
  "language_info": {
   "codemirror_mode": {
    "name": "ipython",
    "version": 3
   },
   "file_extension": ".py",
   "mimetype": "text/x-python",
   "name": "python",
   "nbconvert_exporter": "python",
   "pygments_lexer": "ipython3",
   "version": "3.6.5"
  }
 },
 "nbformat": 4,
 "nbformat_minor": 2
}
