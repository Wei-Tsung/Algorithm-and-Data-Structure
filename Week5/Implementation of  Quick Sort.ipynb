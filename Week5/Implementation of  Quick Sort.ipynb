{
 "cells": [
  {
   "cell_type": "markdown",
   "metadata": {},
   "source": [
    "## Implementation of Quick Sort\n"
   ]
  },
  {
   "cell_type": "markdown",
   "metadata": {},
   "source": [
    "## Quick Sort 中文解說\n",
    "\n",
    "- 先在開頭設置遞迴函數的終止條件 , 當長度 < 2時就沒有再分成左右兩部分的需要 , \n",
    "回傳自身的arr/list ; 以免最後無法終止partition的過程 , 會出現indices out of range的error訊息\n",
    "\n",
    "\n",
    "\n",
    "- 把arr的index[0]的值設置為基準點的pivot value , 然後1設置為leftmark的index , 最後一個值len(arr)-1設置為rightmark的index\n",
    "\n",
    "\n",
    "\n",
    "- 開始進行切分 : 當 leftmark < rightmark 成立的時候 , 不斷比較arr[leftmark_index]和基準點pivot的大小 , 還有arr[rightmark_index]和基準點的大小 , 最終的目的是要讓左半邊都是比pivot還要小的數值 , 右半邊都是比基準點pivot還要大的值 , 只要出現位置不一致的時候 , 就將第一個遇到的兩個數值的位置交換 , 一直到leftmark > rightmark交叉的時候才離開while迴圈 ;\n",
    "\n",
    "\n",
    "- 此時把rightmark index位置的值與pivot , index[0]交換位置 , 然後這個arr[rightmark]的值固定在此位置 \n",
    "\n",
    "\n",
    "\n",
    "- 使用List的組合性質將List重新組合起來 , 左右半邊的arr/list用遞迴關係不斷地重新呼叫自身函數持續排序 \n",
    "       \n",
    "       \n",
    "- 到len(arr) < 2條件成立時才自動終止回傳"
   ]
  },
  {
   "cell_type": "code",
   "execution_count": 71,
   "metadata": {},
   "outputs": [],
   "source": [
    "def quicksort(arr):\n",
    "    \n",
    "    \n",
    "    if len(arr) < 2:\n",
    "        return arr\n",
    "    \n",
    "           \n",
    "    left =  1\n",
    "    right = len(arr)-1\n",
    "    \n",
    "    pivot = arr[0]\n",
    "\n",
    "    if left == right :\n",
    "        if pivot > arr[right]:\n",
    "            temp = arr[0]\n",
    "            arr[0] = arr[right]\n",
    "            arr[right] = temp\n",
    "            return arr\n",
    "        else :\n",
    "            return arr\n",
    "    \n",
    "    while left < right :\n",
    "        \n",
    "        while arr[left] <= pivot and left < (len(arr)-1) : left += 1\n",
    "        while pivot <= arr[right] and right > 0 : right -= 1\n",
    "            \n",
    "        if left < right : arr[left] , arr[right] = arr[right] , arr[left]\n",
    "    \n",
    "        \n",
    "    arr[0] , arr[right] = arr[right] , pivot\n",
    "   \n",
    "    return quicksort(arr[:right]) + [arr[right]] + quicksort(arr[right+1:])\n",
    "     "
   ]
  },
  {
   "cell_type": "code",
   "execution_count": 72,
   "metadata": {},
   "outputs": [
    {
     "data": {
      "text/plain": [
       "[1, 1, 2, 3, 3, 4, 4, 5, 5, 6, 6, 7, 11]"
      ]
     },
     "execution_count": 72,
     "metadata": {},
     "output_type": "execute_result"
    }
   ],
   "source": [
    "arr = [5,1,2,5,4,6,7,3,1,4,3,6,11]\n",
    "\n",
    "quicksort(arr)\n",
    "\n",
    "#結構已經正確  \n"
   ]
  },
  {
   "cell_type": "code",
   "execution_count": 78,
   "metadata": {},
   "outputs": [],
   "source": []
  },
  {
   "cell_type": "code",
   "execution_count": null,
   "metadata": {},
   "outputs": [],
   "source": []
  }
 ],
 "metadata": {
  "kernelspec": {
   "display_name": "Python 3",
   "language": "python",
   "name": "python3"
  },
  "language_info": {
   "codemirror_mode": {
    "name": "ipython",
    "version": 3
   },
   "file_extension": ".py",
   "mimetype": "text/x-python",
   "name": "python",
   "nbconvert_exporter": "python",
   "pygments_lexer": "ipython3",
   "version": "3.6.5"
  }
 },
 "nbformat": 4,
 "nbformat_minor": 2
}
