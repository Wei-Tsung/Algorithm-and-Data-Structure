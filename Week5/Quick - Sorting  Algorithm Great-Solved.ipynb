{
 "cells": [
  {
   "cell_type": "markdown",
   "metadata": {},
   "source": [
    " ### <h1 align=\"center\"><font size=\"5\">Quick Sorting Algoirthm</font></h1>\n",
    " <h2 align='center'><font size=\"4\">快速排序法</font></h2>"
   ]
  },
  {
   "cell_type": "markdown",
   "metadata": {},
   "source": [
    "### Abstraction (抽象狀態):\n",
    "\n",
    "\n",
    "使用遞迴函數關係實現 :　最能有效把握到此演算法精神的精髓\n",
    "\n",
    "1.首先判斷此資料結構序列(Sequence)的長度 , 如果小於2 , 亦即長度為0或者1 (沒有負數長度) : 表示沒有排序的必要 , 直接回傳原本的Sequence\n",
    "\n",
    "\n",
    "2.將序列的第一個值設定為比較的基準點(Pivot Point) , 將整個序列除了第一個基準點以外的所有element與基準值比較 , <= 基準點的數值assign到名稱為less的variable裡面\n",
    "\n",
    "\n",
    "3.其餘的差集 , 自然而然就是大於的部分了 , assign 到 greater variable裡面 :\n",
    "使用filter函數能有效做到差集的運算 , 不過在Python3裡面運算結果會回傳成為filter object , 要把它重新轉換成list．\n",
    "\n",
    "\n",
    "filter() 函數的條件式 : 匿名函數 (lambda x: x not in less , Sequence)\n",
    "\n",
    "4.將原本作為基準點的Sequence[0]重新置放到list的中間 , 小於的部分:變數less放置在基準點的左邊 ; \n",
    "\n",
    "\n",
    "大於的部分 : 變數greater放置在基準點的右邊 , 達到排序的效果\n",
    "\n",
    "5.但是分別將變數less 和 greater使用遞迴關係式重新引入自身函數本身 , \n",
    "不斷的迭代iterate直到達到初始化的停止條件 :   if len(data) < 2 才停止 並回傳sequence\n",
    "\n",
    "\n",
    "6.最終左半部的quicksort(less)會達到一個點 , 在那裡長度小於2 , 遞迴停止 , 數字也都被正確的排序 ;\n",
    "\n",
    "右半部的quicksort(greater)也是同理 , 也會達到一個遞迴停止的點 ; "
   ]
  },
  {
   "cell_type": "code",
   "execution_count": 61,
   "metadata": {},
   "outputs": [],
   "source": [
    "def quicksort(data):\n",
    "    if len(data) < 2:\n",
    "        return data\n",
    "    else:\n",
    "        pivot = data[0]\n",
    "        less = [i for i in data[1:] if i <= pivot]\n",
    "        greater = list(filter(lambda x: x not in less, data[1:]))\n",
    "    return quicksort(less) + [pivot] + quicksort(greater)"
   ]
  },
  {
   "cell_type": "markdown",
   "metadata": {},
   "source": [
    "### 撰寫一個函數測試排序的結果 :"
   ]
  },
  {
   "cell_type": "code",
   "execution_count": 84,
   "metadata": {},
   "outputs": [],
   "source": [
    "def test_machine(size):\n",
    "    data = []\n",
    "    for i in range(size):\n",
    "        data.append(random.randint(-100,100))\n",
    "    b = sorted(data)\n",
    "    return quicksort(data) == b"
   ]
  },
  {
   "cell_type": "code",
   "execution_count": 85,
   "metadata": {},
   "outputs": [
    {
     "data": {
      "text/plain": [
       "[-10, -4, -3, 0, 0, 1, 1, 2, 4, 8, 9]"
      ]
     },
     "execution_count": 85,
     "metadata": {},
     "output_type": "execute_result"
    }
   ],
   "source": [
    "data2 = [4,8,9,0,-4,-3,-10,1,1,2,0]\n",
    "\n",
    "result = quicksort(data2)\n",
    "\n",
    "result"
   ]
  },
  {
   "cell_type": "markdown",
   "metadata": {},
   "source": [
    "### 測試成功"
   ]
  },
  {
   "cell_type": "code",
   "execution_count": 86,
   "metadata": {},
   "outputs": [
    {
     "data": {
      "text/plain": [
       "True"
      ]
     },
     "execution_count": 86,
     "metadata": {},
     "output_type": "execute_result"
    }
   ],
   "source": [
    "test_machine(10000)"
   ]
  },
  {
   "cell_type": "code",
   "execution_count": null,
   "metadata": {},
   "outputs": [],
   "source": []
  }
 ],
 "metadata": {
  "kernelspec": {
   "display_name": "Python 3",
   "language": "python",
   "name": "python3"
  },
  "language_info": {
   "codemirror_mode": {
    "name": "ipython",
    "version": 3
   },
   "file_extension": ".py",
   "mimetype": "text/x-python",
   "name": "python",
   "nbconvert_exporter": "python",
   "pygments_lexer": "ipython3",
   "version": "3.6.5"
  }
 },
 "nbformat": 4,
 "nbformat_minor": 2
}
