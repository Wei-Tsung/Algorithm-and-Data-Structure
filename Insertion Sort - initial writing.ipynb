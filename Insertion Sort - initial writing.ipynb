{
 "cells": [
  {
   "cell_type": "code",
   "execution_count": null,
   "metadata": {},
   "outputs": [],
   "source": [
    "# Definition for singly-linked list.\n",
    "# class ListNode(object):\n",
    "#     def __init__(self, x):\n",
    "#         self.val = x\n",
    "#         self.next = None\n",
    "\n",
    "class Solution(object):\n",
    "    def insertionSortList(self, head):\n",
    "        \"\"\"\n",
    "        :type head: ListNode\n",
    "        :rtype: ListNode\n",
    "        \"\"\"\n",
    "    \n",
    "        dummy_node = ListNode(0)\n",
    "        dummy_node.next = head\n",
    "        \n",
    "        curr = head\n",
    "        pre = dummy_node\n",
    "        \n",
    "        while curr.next :\n",
    "\n",
    "            \n",
    "            if curr.val > curr.next.val: \n",
    "                \n",
    "                while pre.next < curr.next: #從pre.nxet開始 因為pre是虛擬的\n",
    "                    pre = pre.next\n",
    "                \n",
    "                temp = curr.next\n",
    "                curr.next = temp.next\n",
    "                \n",
    "                pre.next = temp\n",
    "                temp.next = pre.next.next\n",
    "                \n",
    "            else:\n",
    "                \n",
    "                curr = curr.next\n",
    "            \n",
    "        return dummy_node.next"
   ]
  }
 ],
 "metadata": {
  "kernelspec": {
   "display_name": "Python 3",
   "language": "python",
   "name": "python3"
  },
  "language_info": {
   "codemirror_mode": {
    "name": "ipython",
    "version": 3
   },
   "file_extension": ".py",
   "mimetype": "text/x-python",
   "name": "python",
   "nbconvert_exporter": "python",
   "pygments_lexer": "ipython3",
   "version": "3.6.5"
  }
 },
 "nbformat": 4,
 "nbformat_minor": 2
}
