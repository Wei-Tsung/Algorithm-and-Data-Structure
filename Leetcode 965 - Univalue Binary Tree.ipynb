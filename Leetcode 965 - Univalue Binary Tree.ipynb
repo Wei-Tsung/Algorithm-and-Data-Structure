{
 "cells": [
  {
   "cell_type": "code",
   "execution_count": null,
   "metadata": {},
   "outputs": [],
   "source": [
    "# Definition for a binary tree node.\n",
    "# class TreeNode(object):\n",
    "#     def __init__(self, x):\n",
    "#         self.val = x\n",
    "#         self.left = None\n",
    "#         self.right = None\n",
    "\n",
    "class Solution(object):\n",
    "    def isUnivalTree(self, root):\n",
    "        \"\"\"\n",
    "        :type root: TreeNode\n",
    "        :rtype: bool\n",
    "        \"\"\"\n",
    "        values = [] # 設置一個list 儲存所有Node的值 從root node開始\n",
    "            \n",
    "            \n",
    "        def Get_value(node):\n",
    "            if node:  # 如果node存在的話執行\n",
    "                values.append(node.val) # 將節點的值存到list裡面\n",
    "                Get_value(node.left) # 節點往左走 遞迴再呼叫Get_value\n",
    "                Get_value(node.right) # 節點往右走  遞迴再呼叫Get_value\n",
    "          \n",
    "        Get_value(root) # 從二元數根部的節點開始\n",
    "        \n",
    "        return len(set(values)) == 1 #如果最後的set不重複集合的長度是1 表示所有的數值皆是相同 回傳True 否則回傳False"
   ]
  }
 ],
 "metadata": {
  "kernelspec": {
   "display_name": "Python 3",
   "language": "python",
   "name": "python3"
  },
  "language_info": {
   "codemirror_mode": {
    "name": "ipython",
    "version": 3
   },
   "file_extension": ".py",
   "mimetype": "text/x-python",
   "name": "python",
   "nbconvert_exporter": "python",
   "pygments_lexer": "ipython3",
   "version": "3.6.5"
  }
 },
 "nbformat": 4,
 "nbformat_minor": 2
}
